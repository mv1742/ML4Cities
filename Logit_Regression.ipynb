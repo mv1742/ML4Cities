{
 "cells": [
  {
   "cell_type": "code",
   "execution_count": 1,
   "metadata": {},
   "outputs": [
    {
     "name": "stdout",
     "output_type": "stream",
     "text": [
      "Populating the interactive namespace from numpy and matplotlib\n"
     ]
    }
   ],
   "source": [
    "import pandas as pd\n",
    "import numpy as np\n",
    "#logistics regression\n",
    "from sklearn.linear_model import LogisticRegression\n",
    "from sklearn.metrics import confusion_matrix, accuracy_score, precision_score, classification_report\n",
    "\n",
    "import matplotlib.pylab\n",
    "%pylab inline"
   ]
  },
  {
   "cell_type": "code",
   "execution_count": 2,
   "metadata": {},
   "outputs": [],
   "source": [
    "from sklearn import linear_model\n",
    "import scipy.stats as stat\n",
    "\n",
    "class LogisticReg:\n",
    "    \"\"\"\n",
    "    Wrapper Class for Logistic Regression which has the usual sklearn instance \n",
    "    in an attribute self.model, and pvalues, z scores and estimated \n",
    "    errors for each coefficient in \n",
    "    \n",
    "    self.z_scores\n",
    "    self.p_values\n",
    "    self.sigma_estimates\n",
    "    \n",
    "    as well as the negative hessian of the log Likelihood (Fisher information)\n",
    "    \n",
    "    self.F_ij\n",
    "    \"\"\"\n",
    "    \n",
    "    def __init__(self,*args,**kwargs):#,**kwargs):\n",
    "        self.model = linear_model.LogisticRegression(*args,**kwargs)#,**args)\n",
    "\n",
    "    def fit(self,X,y):\n",
    "        self.model.fit(X,y)\n",
    "        #### Get p-values for the fitted model ####\n",
    "        denom = (2.0*(1.0+np.cosh(self.model.decision_function(X))))\n",
    "        denom = np.tile(denom,(X.shape[1],1)).T\n",
    "        F_ij = np.dot((X/denom).T,X) ## Fisher Information Matrix\n",
    "        Cramer_Rao = np.linalg.inv(F_ij) ## Inverse Information Matrix\n",
    "        sigma_estimates = np.array([np.sqrt(Cramer_Rao[i,i]) for i in range(Cramer_Rao.shape[0])]) # sigma for each coefficient\n",
    "        z_scores = self.model.coef_[0]/sigma_estimates # z-score for eaach model coefficient\n",
    "        p_values = [stat.norm.sf(abs(x))*2 for x in z_scores] ### two tailed test for p-values\n",
    "        \n",
    "        self.z_scores = z_scores\n",
    "        self.p_values = p_values\n",
    "        self.sigma_estimates = sigma_estimates\n",
    "        self.F_ij = F_ij"
   ]
  },
  {
   "cell_type": "code",
   "execution_count": 3,
   "metadata": {},
   "outputs": [],
   "source": [
    "def summary(X,logit,logit1):\n",
    "    names = list(X.columns)\n",
    "    summary_90 = pd.DataFrame(index=names,columns=['Coefficient','p-value','<.10','<.05','<.01'])\n",
    "    summary_90['Coefficient']=logit1.coef_[0]\n",
    "    summary_90['p-value']=logit.p_values\n",
    "    summary_90['Coefficient']=summary_90['Coefficient'].apply(lambda x: float('{:.2e}'.format(x)))\n",
    "    summary_90['p-value']=summary_90['p-value'].apply(lambda x: float('{:.2e}'.format(x)))\n",
    "    ten=[]\n",
    "    five=[]\n",
    "    one=[]\n",
    "    for i in range(0,len(X.columns)):\n",
    "        if summary_90['p-value'][i]<0.1:\n",
    "            ten.append('*')\n",
    "        else:\n",
    "            ten.append('')\n",
    "        if summary_90['p-value'][i]<0.05:\n",
    "            five.append('*')\n",
    "        else:\n",
    "            five.append('')\n",
    "        if summary_90['p-value'][i]<0.01:\n",
    "            one.append('*')\n",
    "        else:\n",
    "            one.append('')\n",
    "    summary_90['<.10']=ten\n",
    "    summary_90['<.05']=five\n",
    "    summary_90['<.01']=one\n",
    "    intercept = float('{:.2e}'.format(logit1.intercept_[0]))\n",
    "    inter=pd.DataFrame({'Coefficient': [intercept],'p-value':'','<.10':'','<.05':'','<.01':''},index=['Intercept'])\n",
    "    summary_90 = pd.concat([inter,summary_90])\n",
    "    return summary_90"
   ]
  },
  {
   "cell_type": "code",
   "execution_count": 4,
   "metadata": {},
   "outputs": [],
   "source": [
    "data = pd.read_csv('UDPNY_gerardo.csv')"
   ]
  },
  {
   "cell_type": "code",
   "execution_count": 5,
   "metadata": {},
   "outputs": [],
   "source": [
    "data['all_li_90'] = data['vli_90']+data['li_90']\n",
    "data['all_li_00'] = data['vli_00']+data['li_00']\n",
    "data['all_li_16'] = data['vli_16']+data['li_16']"
   ]
  },
  {
   "cell_type": "code",
   "execution_count": 6,
   "metadata": {},
   "outputs": [],
   "source": [
    "l=[]\n",
    "for i in range(0,len(data)):\n",
    "    if ((data.Typology[i]=='LI - Ongoing Gentrification and/or Displacement') | \n",
    "        (data.Typology[i]=='LI - At Risk of Gentrification and/or Displacement')):\n",
    "        l.append(1)\n",
    "    else:\n",
    "        l.append(0)"
   ]
  },
  {
   "cell_type": "code",
   "execution_count": 7,
   "metadata": {},
   "outputs": [],
   "source": [
    "data['gen'] = l"
   ]
  },
  {
   "cell_type": "code",
   "execution_count": 8,
   "metadata": {},
   "outputs": [],
   "source": [
    "data['TOD_pre_00'] = data['TOD_pre_00'].apply(lambda x: float(x))\n",
    "data['TOD_00_10'] = data['TOD_00_10'].apply(lambda x: float(x))\n",
    "data['TOD_10'] = data['TOD_10'].apply(lambda x: float(x))\n",
    "data['TOD'] = data['TOD'].apply(lambda x: float(x))"
   ]
  },
  {
   "cell_type": "code",
   "execution_count": 9,
   "metadata": {},
   "outputs": [],
   "source": [
    "logit_90 = LogisticReg(C = 10000)\n",
    "logit1_90 = LogisticRegression(C = 10000)\n",
    "logit_00 = LogisticReg(C = 10000)\n",
    "logit1_00 = LogisticRegression(C = 10000)\n",
    "logit_16 = LogisticReg(C = 10000)\n",
    "logit1_16 = LogisticRegression(C = 10000)"
   ]
  },
  {
   "cell_type": "code",
   "execution_count": 10,
   "metadata": {},
   "outputs": [],
   "source": [
    "data['hinc_90_norm'] = data['hinc_90']/np.max(data['hinc_90'])\n",
    "data['hinc_00_norm'] = data['hinc_00']/np.max(data['hinc_00'])\n",
    "data['hinc_16_norm'] = data['hinc_16']/np.max(data['hinc_16'])\n",
    "data['empd15_norm'] = data['empd15']/np.max(data['empd15'])"
   ]
  },
  {
   "cell_type": "code",
   "execution_count": 11,
   "metadata": {},
   "outputs": [],
   "source": [
    "X_90 = data[['hinc_90_norm', 'per_rent_90', 'per_nonwhite_90', 'TOD_pre_00', 'empd15_norm', \n",
    "                      'per_units_pre50']]\n",
    "X_00 = data[['hinc_00_norm', 'per_rent_00', 'per_nonwhite_00', 'TOD_pre_00', 'TOD_00_10', 'empd15_norm', \n",
    "                      'per_units_pre50']]\n",
    "X_16 = data[['hinc_16_norm', 'per_rent_16', 'per_nonwhite_16', 'TOD', 'empd15_norm', \n",
    "                      'per_units_pre50']]"
   ]
  },
  {
   "cell_type": "code",
   "execution_count": 12,
   "metadata": {},
   "outputs": [],
   "source": [
    "X_90 = X_90.reset_index().drop('index',axis=1)\n",
    "X_00 = X_00.reset_index().drop('index',axis=1)\n",
    "X_16 = X_16.reset_index().drop('index',axis=1)"
   ]
  },
  {
   "cell_type": "code",
   "execution_count": 13,
   "metadata": {},
   "outputs": [],
   "source": [
    "Y = data.gen "
   ]
  },
  {
   "cell_type": "code",
   "execution_count": 14,
   "metadata": {},
   "outputs": [],
   "source": [
    "Y = Y.reset_index().drop('index',axis=1)"
   ]
  },
  {
   "cell_type": "code",
   "execution_count": 15,
   "metadata": {},
   "outputs": [
    {
     "data": {
      "text/plain": [
       "LogisticRegression(C=10000, class_weight=None, dual=False, fit_intercept=True,\n",
       "          intercept_scaling=1, max_iter=100, multi_class='ovr', n_jobs=1,\n",
       "          penalty='l2', random_state=None, solver='liblinear', tol=0.0001,\n",
       "          verbose=0, warm_start=False)"
      ]
     },
     "execution_count": 15,
     "metadata": {},
     "output_type": "execute_result"
    }
   ],
   "source": [
    "logit_90.fit(X_90, Y.values.ravel())\n",
    "logit1_90.fit(X_90, Y.values.ravel())\n",
    "logit_00.fit(X_00, Y.values.ravel())\n",
    "logit1_00.fit(X_00, Y.values.ravel())\n",
    "logit_16.fit(X_16, Y.values.ravel())\n",
    "logit1_16.fit(X_16, Y.values.ravel())"
   ]
  },
  {
   "cell_type": "code",
   "execution_count": 16,
   "metadata": {},
   "outputs": [],
   "source": [
    "summary_90 = summary(X_90,logit_90,logit1_90)\n",
    "summary_00 = summary(X_00,logit_00,logit1_00)\n",
    "summary_16 = summary(X_16,logit_16,logit1_16)"
   ]
  },
  {
   "cell_type": "code",
   "execution_count": 17,
   "metadata": {},
   "outputs": [
    {
     "data": {
      "text/html": [
       "<div>\n",
       "<style scoped>\n",
       "    .dataframe tbody tr th:only-of-type {\n",
       "        vertical-align: middle;\n",
       "    }\n",
       "\n",
       "    .dataframe tbody tr th {\n",
       "        vertical-align: top;\n",
       "    }\n",
       "\n",
       "    .dataframe thead th {\n",
       "        text-align: right;\n",
       "    }\n",
       "</style>\n",
       "<table border=\"1\" class=\"dataframe\">\n",
       "  <thead>\n",
       "    <tr style=\"text-align: right;\">\n",
       "      <th></th>\n",
       "      <th>Coefficient</th>\n",
       "      <th>p-value</th>\n",
       "      <th>&lt;.10</th>\n",
       "      <th>&lt;.05</th>\n",
       "      <th>&lt;.01</th>\n",
       "    </tr>\n",
       "  </thead>\n",
       "  <tbody>\n",
       "    <tr>\n",
       "      <th>Intercept</th>\n",
       "      <td>-2.870</td>\n",
       "      <td></td>\n",
       "      <td></td>\n",
       "      <td></td>\n",
       "      <td></td>\n",
       "    </tr>\n",
       "    <tr>\n",
       "      <th>hinc_90_norm</th>\n",
       "      <td>-6.500</td>\n",
       "      <td>3.36e-41</td>\n",
       "      <td>*</td>\n",
       "      <td>*</td>\n",
       "      <td>*</td>\n",
       "    </tr>\n",
       "    <tr>\n",
       "      <th>per_rent_90</th>\n",
       "      <td>0.797</td>\n",
       "      <td>2.28e-05</td>\n",
       "      <td>*</td>\n",
       "      <td>*</td>\n",
       "      <td>*</td>\n",
       "    </tr>\n",
       "    <tr>\n",
       "      <th>per_nonwhite_90</th>\n",
       "      <td>-0.214</td>\n",
       "      <td>0.317</td>\n",
       "      <td></td>\n",
       "      <td></td>\n",
       "      <td></td>\n",
       "    </tr>\n",
       "    <tr>\n",
       "      <th>TOD_pre_00</th>\n",
       "      <td>2.160</td>\n",
       "      <td>1.51e-68</td>\n",
       "      <td>*</td>\n",
       "      <td>*</td>\n",
       "      <td>*</td>\n",
       "    </tr>\n",
       "    <tr>\n",
       "      <th>empd15_norm</th>\n",
       "      <td>-1.850</td>\n",
       "      <td>0.027</td>\n",
       "      <td>*</td>\n",
       "      <td>*</td>\n",
       "      <td></td>\n",
       "    </tr>\n",
       "    <tr>\n",
       "      <th>per_units_pre50</th>\n",
       "      <td>1.640</td>\n",
       "      <td>1.38e-13</td>\n",
       "      <td>*</td>\n",
       "      <td>*</td>\n",
       "      <td>*</td>\n",
       "    </tr>\n",
       "  </tbody>\n",
       "</table>\n",
       "</div>"
      ],
      "text/plain": [
       "                 Coefficient   p-value <.10 <.05 <.01\n",
       "Intercept             -2.870                         \n",
       "hinc_90_norm          -6.500  3.36e-41    *    *    *\n",
       "per_rent_90            0.797  2.28e-05    *    *    *\n",
       "per_nonwhite_90       -0.214     0.317               \n",
       "TOD_pre_00             2.160  1.51e-68    *    *    *\n",
       "empd15_norm           -1.850     0.027    *    *     \n",
       "per_units_pre50        1.640  1.38e-13    *    *    *"
      ]
     },
     "execution_count": 17,
     "metadata": {},
     "output_type": "execute_result"
    }
   ],
   "source": [
    "summary_90"
   ]
  },
  {
   "cell_type": "code",
   "execution_count": 18,
   "metadata": {},
   "outputs": [
    {
     "data": {
      "text/html": [
       "<div>\n",
       "<style scoped>\n",
       "    .dataframe tbody tr th:only-of-type {\n",
       "        vertical-align: middle;\n",
       "    }\n",
       "\n",
       "    .dataframe tbody tr th {\n",
       "        vertical-align: top;\n",
       "    }\n",
       "\n",
       "    .dataframe thead th {\n",
       "        text-align: right;\n",
       "    }\n",
       "</style>\n",
       "<table border=\"1\" class=\"dataframe\">\n",
       "  <thead>\n",
       "    <tr style=\"text-align: right;\">\n",
       "      <th></th>\n",
       "      <th>Coefficient</th>\n",
       "      <th>p-value</th>\n",
       "      <th>&lt;.10</th>\n",
       "      <th>&lt;.05</th>\n",
       "      <th>&lt;.01</th>\n",
       "    </tr>\n",
       "  </thead>\n",
       "  <tbody>\n",
       "    <tr>\n",
       "      <th>Intercept</th>\n",
       "      <td>-3.290</td>\n",
       "      <td></td>\n",
       "      <td></td>\n",
       "      <td></td>\n",
       "      <td></td>\n",
       "    </tr>\n",
       "    <tr>\n",
       "      <th>hinc_00_norm</th>\n",
       "      <td>-5.940</td>\n",
       "      <td>6.09e-34</td>\n",
       "      <td>*</td>\n",
       "      <td>*</td>\n",
       "      <td>*</td>\n",
       "    </tr>\n",
       "    <tr>\n",
       "      <th>per_rent_00</th>\n",
       "      <td>0.875</td>\n",
       "      <td>0.000137</td>\n",
       "      <td>*</td>\n",
       "      <td>*</td>\n",
       "      <td>*</td>\n",
       "    </tr>\n",
       "    <tr>\n",
       "      <th>per_nonwhite_00</th>\n",
       "      <td>0.375</td>\n",
       "      <td>0.0311</td>\n",
       "      <td>*</td>\n",
       "      <td>*</td>\n",
       "      <td></td>\n",
       "    </tr>\n",
       "    <tr>\n",
       "      <th>TOD_pre_00</th>\n",
       "      <td>2.150</td>\n",
       "      <td>1.51e-73</td>\n",
       "      <td>*</td>\n",
       "      <td>*</td>\n",
       "      <td>*</td>\n",
       "    </tr>\n",
       "    <tr>\n",
       "      <th>TOD_00_10</th>\n",
       "      <td>0.405</td>\n",
       "      <td>0.338</td>\n",
       "      <td></td>\n",
       "      <td></td>\n",
       "      <td></td>\n",
       "    </tr>\n",
       "    <tr>\n",
       "      <th>empd15_norm</th>\n",
       "      <td>-0.759</td>\n",
       "      <td>0.366</td>\n",
       "      <td></td>\n",
       "      <td></td>\n",
       "      <td></td>\n",
       "    </tr>\n",
       "    <tr>\n",
       "      <th>per_units_pre50</th>\n",
       "      <td>1.650</td>\n",
       "      <td>2.07e-13</td>\n",
       "      <td>*</td>\n",
       "      <td>*</td>\n",
       "      <td>*</td>\n",
       "    </tr>\n",
       "  </tbody>\n",
       "</table>\n",
       "</div>"
      ],
      "text/plain": [
       "                 Coefficient   p-value <.10 <.05 <.01\n",
       "Intercept             -3.290                         \n",
       "hinc_00_norm          -5.940  6.09e-34    *    *    *\n",
       "per_rent_00            0.875  0.000137    *    *    *\n",
       "per_nonwhite_00        0.375    0.0311    *    *     \n",
       "TOD_pre_00             2.150  1.51e-73    *    *    *\n",
       "TOD_00_10              0.405     0.338               \n",
       "empd15_norm           -0.759     0.366               \n",
       "per_units_pre50        1.650  2.07e-13    *    *    *"
      ]
     },
     "execution_count": 18,
     "metadata": {},
     "output_type": "execute_result"
    }
   ],
   "source": [
    "summary_00"
   ]
  },
  {
   "cell_type": "code",
   "execution_count": 19,
   "metadata": {},
   "outputs": [
    {
     "data": {
      "text/html": [
       "<div>\n",
       "<style scoped>\n",
       "    .dataframe tbody tr th:only-of-type {\n",
       "        vertical-align: middle;\n",
       "    }\n",
       "\n",
       "    .dataframe tbody tr th {\n",
       "        vertical-align: top;\n",
       "    }\n",
       "\n",
       "    .dataframe thead th {\n",
       "        text-align: right;\n",
       "    }\n",
       "</style>\n",
       "<table border=\"1\" class=\"dataframe\">\n",
       "  <thead>\n",
       "    <tr style=\"text-align: right;\">\n",
       "      <th></th>\n",
       "      <th>Coefficient</th>\n",
       "      <th>p-value</th>\n",
       "      <th>&lt;.10</th>\n",
       "      <th>&lt;.05</th>\n",
       "      <th>&lt;.01</th>\n",
       "    </tr>\n",
       "  </thead>\n",
       "  <tbody>\n",
       "    <tr>\n",
       "      <th>Intercept</th>\n",
       "      <td>-5.50000</td>\n",
       "      <td></td>\n",
       "      <td></td>\n",
       "      <td></td>\n",
       "      <td></td>\n",
       "    </tr>\n",
       "    <tr>\n",
       "      <th>hinc_16_norm</th>\n",
       "      <td>-0.00116</td>\n",
       "      <td>0.0306</td>\n",
       "      <td>*</td>\n",
       "      <td>*</td>\n",
       "      <td></td>\n",
       "    </tr>\n",
       "    <tr>\n",
       "      <th>per_rent_16</th>\n",
       "      <td>2.60000</td>\n",
       "      <td>3e-33</td>\n",
       "      <td>*</td>\n",
       "      <td>*</td>\n",
       "      <td>*</td>\n",
       "    </tr>\n",
       "    <tr>\n",
       "      <th>per_nonwhite_16</th>\n",
       "      <td>0.62800</td>\n",
       "      <td>0.000318</td>\n",
       "      <td>*</td>\n",
       "      <td>*</td>\n",
       "      <td>*</td>\n",
       "    </tr>\n",
       "    <tr>\n",
       "      <th>TOD</th>\n",
       "      <td>1.94000</td>\n",
       "      <td>9.38e-66</td>\n",
       "      <td>*</td>\n",
       "      <td>*</td>\n",
       "      <td>*</td>\n",
       "    </tr>\n",
       "    <tr>\n",
       "      <th>empd15_norm</th>\n",
       "      <td>-2.36000</td>\n",
       "      <td>0.0043</td>\n",
       "      <td>*</td>\n",
       "      <td>*</td>\n",
       "      <td>*</td>\n",
       "    </tr>\n",
       "    <tr>\n",
       "      <th>per_units_pre50</th>\n",
       "      <td>1.65000</td>\n",
       "      <td>4.02e-18</td>\n",
       "      <td>*</td>\n",
       "      <td>*</td>\n",
       "      <td>*</td>\n",
       "    </tr>\n",
       "  </tbody>\n",
       "</table>\n",
       "</div>"
      ],
      "text/plain": [
       "                 Coefficient   p-value <.10 <.05 <.01\n",
       "Intercept           -5.50000                         \n",
       "hinc_16_norm        -0.00116    0.0306    *    *     \n",
       "per_rent_16          2.60000     3e-33    *    *    *\n",
       "per_nonwhite_16      0.62800  0.000318    *    *    *\n",
       "TOD                  1.94000  9.38e-66    *    *    *\n",
       "empd15_norm         -2.36000    0.0043    *    *    *\n",
       "per_units_pre50      1.65000  4.02e-18    *    *    *"
      ]
     },
     "execution_count": 19,
     "metadata": {},
     "output_type": "execute_result"
    }
   ],
   "source": [
    "summary_16"
   ]
  },
  {
   "cell_type": "code",
   "execution_count": 20,
   "metadata": {},
   "outputs": [],
   "source": [
    "pred_val_90 = logit1_90.predict(X_90)\n",
    "pred_val_00 = logit1_00.predict(X_00)\n",
    "pred_val_16 = logit1_16.predict(X_16)"
   ]
  },
  {
   "cell_type": "code",
   "execution_count": 21,
   "metadata": {},
   "outputs": [
    {
     "name": "stdout",
     "output_type": "stream",
     "text": [
      "0.8911463495209778 0.8921374297984803 0.8903204492897258\n"
     ]
    }
   ],
   "source": [
    "print(accuracy_score(Y, pred_val_90),\n",
    "accuracy_score(Y, pred_val_00),\n",
    "accuracy_score(Y, pred_val_16))"
   ]
  },
  {
   "cell_type": "code",
   "execution_count": null,
   "metadata": {},
   "outputs": [],
   "source": []
  }
 ],
 "metadata": {
  "kernelspec": {
   "display_name": "Python 3",
   "language": "python",
   "name": "python3"
  },
  "language_info": {
   "codemirror_mode": {
    "name": "ipython",
    "version": 3
   },
   "file_extension": ".py",
   "mimetype": "text/x-python",
   "name": "python",
   "nbconvert_exporter": "python",
   "pygments_lexer": "ipython3",
   "version": "3.6.4"
  }
 },
 "nbformat": 4,
 "nbformat_minor": 2
}
