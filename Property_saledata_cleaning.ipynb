{
 "cells": [
  {
   "cell_type": "code",
   "execution_count": 294,
   "metadata": {},
   "outputs": [],
   "source": [
    "import os\n",
    "import glob\n",
    "import pandas as pd \n",
    "import geopandas as gpd\n",
    "from geopandas import GeoDataFrame\n",
    "import os\n",
    "import numpy as np\n",
    "import statsmodels.formula.api as smf\n",
    "import matplotlib.pylab as plt\n",
    "import math\n",
    "\n",
    "\n",
    "from statsmodels.tsa.stattools import adfuller\n",
    "from statsmodels.tsa.stattools import acf, pacf\n",
    "from statsmodels.tsa.arima_model import ARIMA\n",
    "import statsmodels.tsa.statespace as smstate\n",
    "\n",
    "from statsmodels.graphics.api import qqplot\n",
    " \n",
    "pd.options.mode.chained_assignment = None\n",
    "%matplotlib inline"
   ]
  },
  {
   "cell_type": "code",
   "execution_count": 295,
   "metadata": {},
   "outputs": [],
   "source": [
    "path = \"/Users/amber/Documents/ML/Projects/dataset/saleprice\""
   ]
  },
  {
   "cell_type": "code",
   "execution_count": 296,
   "metadata": {},
   "outputs": [],
   "source": [
    "os.chdir(\"/Users/amber/Documents/ML/Projects/dataset/saleprice\")"
   ]
  },
  {
   "cell_type": "markdown",
   "metadata": {},
   "source": [
    "#### Since data that download online are seperated in different files on different year and borough. Lets merge them together in same file first "
   ]
  },
  {
   "cell_type": "markdown",
   "metadata": {},
   "source": [
    "### Brooklyn "
   ]
  },
  {
   "cell_type": "code",
   "execution_count": 297,
   "metadata": {
    "scrolled": true
   },
   "outputs": [
    {
     "name": "stderr",
     "output_type": "stream",
     "text": [
      "/Users/amber/anaconda3/lib/python3.7/site-packages/ipykernel_launcher.py:10: FutureWarning: Sorting because non-concatenation axis is not aligned. A future version\n",
      "of pandas will change to not sort by default.\n",
      "\n",
      "To accept the future behavior, pass 'sort=False'.\n",
      "\n",
      "To retain the current behavior and silence the warning, pass 'sort=True'.\n",
      "\n",
      "  # Remove the CWD from sys.path while we load stuff.\n"
     ]
    },
    {
     "data": {
      "text/plain": [
       "(139437, 42)"
      ]
     },
     "execution_count": 297,
     "metadata": {},
     "output_type": "execute_result"
    }
   ],
   "source": [
    "#Combine hoiusing sale data from 2010 to 2018 in one file \n",
    "bk_list = []\n",
    "# Used separate skiprows values since Excel files were formatted slightly differently\n",
    "for i in range(2010, 2016):\n",
    "    temp_df = pd.read_excel('{}/{}_brooklyn.xls'.format(path, i), skiprows=3)\n",
    "    temp_df.rename(columns=lambda x: x.strip(), inplace=True)\n",
    "    \n",
    "    bk_list.append(temp_df)\n",
    "\n",
    "bk_df = pd.concat(bk_list)\n",
    "bk_df.shape"
   ]
  },
  {
   "cell_type": "code",
   "execution_count": 298,
   "metadata": {},
   "outputs": [],
   "source": [
    "bk_df.to_csv(\"brooklyn_prices_2010-16.csv\")"
   ]
  },
  {
   "cell_type": "markdown",
   "metadata": {},
   "source": [
    "### Manhattan"
   ]
  },
  {
   "cell_type": "code",
   "execution_count": 299,
   "metadata": {},
   "outputs": [
    {
     "name": "stderr",
     "output_type": "stream",
     "text": [
      "/Users/amber/anaconda3/lib/python3.7/site-packages/ipykernel_launcher.py:9: FutureWarning: Sorting because non-concatenation axis is not aligned. A future version\n",
      "of pandas will change to not sort by default.\n",
      "\n",
      "To accept the future behavior, pass 'sort=False'.\n",
      "\n",
      "To retain the current behavior and silence the warning, pass 'sort=True'.\n",
      "\n",
      "  if __name__ == '__main__':\n"
     ]
    },
    {
     "data": {
      "text/plain": [
       "(139437, 42)"
      ]
     },
     "execution_count": 299,
     "metadata": {},
     "output_type": "execute_result"
    }
   ],
   "source": [
    "man_list = []\n",
    "# Used separate skiprows values since Excel files were formatted slightly differently\n",
    "for i in range(2010, 2016):\n",
    "    temp_df = pd.read_excel('{}/{}_manhattan.xls'.format(path, i), skiprows=3)\n",
    "    temp_df.rename(columns=lambda x: x.strip(), inplace=True)\n",
    "    \n",
    "    man_list.append(temp_df)\n",
    "\n",
    "man_df = pd.concat(bk_list)\n",
    "man_df.shape"
   ]
  },
  {
   "cell_type": "code",
   "execution_count": 300,
   "metadata": {},
   "outputs": [],
   "source": [
    "man_df.to_csv(\"manhattan_prices_2010-16.csv\")"
   ]
  },
  {
   "cell_type": "markdown",
   "metadata": {},
   "source": [
    "### Queens "
   ]
  },
  {
   "cell_type": "code",
   "execution_count": 301,
   "metadata": {},
   "outputs": [
    {
     "name": "stderr",
     "output_type": "stream",
     "text": [
      "/Users/amber/anaconda3/lib/python3.7/site-packages/ipykernel_launcher.py:9: FutureWarning: Sorting because non-concatenation axis is not aligned. A future version\n",
      "of pandas will change to not sort by default.\n",
      "\n",
      "To accept the future behavior, pass 'sort=False'.\n",
      "\n",
      "To retain the current behavior and silence the warning, pass 'sort=True'.\n",
      "\n",
      "  if __name__ == '__main__':\n"
     ]
    },
    {
     "data": {
      "text/plain": [
       "(142658, 42)"
      ]
     },
     "execution_count": 301,
     "metadata": {},
     "output_type": "execute_result"
    }
   ],
   "source": [
    "que_list = []\n",
    "# Used separate skiprows values since Excel files were formatted slightly differently\n",
    "for i in range(2010, 2016):\n",
    "    temp_df = pd.read_excel('{}/{}_queens.xls'.format(path, i), skiprows=3)\n",
    "    temp_df.rename(columns=lambda x: x.strip(), inplace=True)\n",
    "    \n",
    "    que_list.append(temp_df)\n",
    "\n",
    "que_df = pd.concat(que_list)\n",
    "que_df.shape"
   ]
  },
  {
   "cell_type": "code",
   "execution_count": 302,
   "metadata": {},
   "outputs": [],
   "source": [
    "que_df.to_csv(\"queens_prices_2010-16.csv\")"
   ]
  },
  {
   "cell_type": "markdown",
   "metadata": {},
   "source": [
    "### Bronx "
   ]
  },
  {
   "cell_type": "code",
   "execution_count": 303,
   "metadata": {},
   "outputs": [
    {
     "name": "stderr",
     "output_type": "stream",
     "text": [
      "/Users/amber/anaconda3/lib/python3.7/site-packages/ipykernel_launcher.py:9: FutureWarning: Sorting because non-concatenation axis is not aligned. A future version\n",
      "of pandas will change to not sort by default.\n",
      "\n",
      "To accept the future behavior, pass 'sort=False'.\n",
      "\n",
      "To retain the current behavior and silence the warning, pass 'sort=True'.\n",
      "\n",
      "  if __name__ == '__main__':\n"
     ]
    },
    {
     "data": {
      "text/plain": [
       "(142658, 42)"
      ]
     },
     "execution_count": 303,
     "metadata": {},
     "output_type": "execute_result"
    }
   ],
   "source": [
    "bro_list = []\n",
    "# Used separate skiprows values since Excel files were formatted slightly differently\n",
    "for i in range(2010, 2016):\n",
    "    temp_df = pd.read_excel('{}/{}_queens.xls'.format(path, i), skiprows=3)\n",
    "    temp_df.rename(columns=lambda x: x.strip(), inplace=True)\n",
    "    \n",
    "    bro_list.append(temp_df)\n",
    "\n",
    "bro_df = pd.concat(bro_list)\n",
    "bro_df.shape"
   ]
  },
  {
   "cell_type": "code",
   "execution_count": 304,
   "metadata": {},
   "outputs": [],
   "source": [
    "bro_df.to_csv(\"bronx_prices_2010-16.csv\")"
   ]
  },
  {
   "cell_type": "markdown",
   "metadata": {},
   "source": [
    "### statenisland"
   ]
  },
  {
   "cell_type": "code",
   "execution_count": 305,
   "metadata": {},
   "outputs": [
    {
     "name": "stderr",
     "output_type": "stream",
     "text": [
      "/Users/amber/anaconda3/lib/python3.7/site-packages/ipykernel_launcher.py:9: FutureWarning: Sorting because non-concatenation axis is not aligned. A future version\n",
      "of pandas will change to not sort by default.\n",
      "\n",
      "To accept the future behavior, pass 'sort=False'.\n",
      "\n",
      "To retain the current behavior and silence the warning, pass 'sort=True'.\n",
      "\n",
      "  if __name__ == '__main__':\n"
     ]
    },
    {
     "data": {
      "text/plain": [
       "(142658, 42)"
      ]
     },
     "execution_count": 305,
     "metadata": {},
     "output_type": "execute_result"
    }
   ],
   "source": [
    "stan_list = []\n",
    "# Used separate skiprows values since Excel files were formatted slightly differently\n",
    "for i in range(2010, 2016):\n",
    "    temp_df = pd.read_excel('{}/{}_queens.xls'.format(path, i), skiprows=3)\n",
    "    temp_df.rename(columns=lambda x: x.strip(), inplace=True)\n",
    "    \n",
    "    stan_list.append(temp_df)\n",
    "\n",
    "stan_df = pd.concat(stan_list)\n",
    "stan_df.shape"
   ]
  },
  {
   "cell_type": "code",
   "execution_count": 328,
   "metadata": {},
   "outputs": [],
   "source": [
    "stan_df.to_csv(\"statenisland_prices_2010-16.csv\")"
   ]
  },
  {
   "cell_type": "markdown",
   "metadata": {},
   "source": [
    "#### convert data from 5 borough to one dataset"
   ]
  },
  {
   "cell_type": "code",
   "execution_count": 335,
   "metadata": {},
   "outputs": [],
   "source": [
    "extension = 'csv'\n",
    "all_filenames = [i for i in glob.glob('*.{}'.format(extension))]"
   ]
  },
  {
   "cell_type": "code",
   "execution_count": 336,
   "metadata": {},
   "outputs": [],
   "source": [
    "#combine all files in the list\n",
    "combined_csv = pd.concat([pd.read_csv(f) for f in all_filenames ])\n",
    "#export to csv\n",
    "combined_csv.to_csv(\"combined_csv.csv\", index=False, encoding='utf-8-sig')"
   ]
  },
  {
   "cell_type": "code",
   "execution_count": 337,
   "metadata": {},
   "outputs": [
    {
     "data": {
      "text/html": [
       "<div>\n",
       "<style scoped>\n",
       "    .dataframe tbody tr th:only-of-type {\n",
       "        vertical-align: middle;\n",
       "    }\n",
       "\n",
       "    .dataframe tbody tr th {\n",
       "        vertical-align: top;\n",
       "    }\n",
       "\n",
       "    .dataframe thead th {\n",
       "        text-align: right;\n",
       "    }\n",
       "</style>\n",
       "<table border=\"1\" class=\"dataframe\">\n",
       "  <thead>\n",
       "    <tr style=\"text-align: right;\">\n",
       "      <th></th>\n",
       "      <th>Unnamed: 0</th>\n",
       "      <th>ADDRESS</th>\n",
       "      <th>APARTMENT NUMBER</th>\n",
       "      <th>BLOCK</th>\n",
       "      <th>BOROUGH</th>\n",
       "      <th>BUILDING CLASS AT PRESENT</th>\n",
       "      <th>BUILDING CLASS AT TIME OF SALE</th>\n",
       "      <th>BUILDING CLASS CATEGORY</th>\n",
       "      <th>Building Class Category is based on Building Class at Time of Sale.</th>\n",
       "      <th>COMMERCIAL UNITS</th>\n",
       "      <th>...</th>\n",
       "      <th>Unnamed: 20</th>\n",
       "      <th>Unnamed: 3</th>\n",
       "      <th>Unnamed: 4</th>\n",
       "      <th>Unnamed: 5</th>\n",
       "      <th>Unnamed: 6</th>\n",
       "      <th>Unnamed: 7</th>\n",
       "      <th>Unnamed: 8</th>\n",
       "      <th>Unnamed: 9</th>\n",
       "      <th>YEAR BUILT</th>\n",
       "      <th>ZIP CODE</th>\n",
       "    </tr>\n",
       "  </thead>\n",
       "  <tbody>\n",
       "    <tr>\n",
       "      <th>0</th>\n",
       "      <td>0</td>\n",
       "      <td>21-08 81ST STREET</td>\n",
       "      <td></td>\n",
       "      <td>976.0</td>\n",
       "      <td>4.0</td>\n",
       "      <td>A5</td>\n",
       "      <td>A5</td>\n",
       "      <td>01  ONE FAMILY HOMES</td>\n",
       "      <td>NaN</td>\n",
       "      <td>0.0</td>\n",
       "      <td>...</td>\n",
       "      <td>NaN</td>\n",
       "      <td>NaN</td>\n",
       "      <td>NaN</td>\n",
       "      <td>NaN</td>\n",
       "      <td>NaN</td>\n",
       "      <td>NaN</td>\n",
       "      <td>NaN</td>\n",
       "      <td>NaN</td>\n",
       "      <td>1950.0</td>\n",
       "      <td>11370.0</td>\n",
       "    </tr>\n",
       "    <tr>\n",
       "      <th>1</th>\n",
       "      <td>1</td>\n",
       "      <td>21-18 81ST STREET</td>\n",
       "      <td></td>\n",
       "      <td>976.0</td>\n",
       "      <td>4.0</td>\n",
       "      <td>A5</td>\n",
       "      <td>A5</td>\n",
       "      <td>01  ONE FAMILY HOMES</td>\n",
       "      <td>NaN</td>\n",
       "      <td>0.0</td>\n",
       "      <td>...</td>\n",
       "      <td>NaN</td>\n",
       "      <td>NaN</td>\n",
       "      <td>NaN</td>\n",
       "      <td>NaN</td>\n",
       "      <td>NaN</td>\n",
       "      <td>NaN</td>\n",
       "      <td>NaN</td>\n",
       "      <td>NaN</td>\n",
       "      <td>1950.0</td>\n",
       "      <td>11370.0</td>\n",
       "    </tr>\n",
       "    <tr>\n",
       "      <th>2</th>\n",
       "      <td>2</td>\n",
       "      <td>21-20 81ST   STREET</td>\n",
       "      <td></td>\n",
       "      <td>976.0</td>\n",
       "      <td>4.0</td>\n",
       "      <td>A5</td>\n",
       "      <td>A5</td>\n",
       "      <td>01  ONE FAMILY HOMES</td>\n",
       "      <td>NaN</td>\n",
       "      <td>0.0</td>\n",
       "      <td>...</td>\n",
       "      <td>NaN</td>\n",
       "      <td>NaN</td>\n",
       "      <td>NaN</td>\n",
       "      <td>NaN</td>\n",
       "      <td>NaN</td>\n",
       "      <td>NaN</td>\n",
       "      <td>NaN</td>\n",
       "      <td>NaN</td>\n",
       "      <td>1950.0</td>\n",
       "      <td>11370.0</td>\n",
       "    </tr>\n",
       "    <tr>\n",
       "      <th>3</th>\n",
       "      <td>3</td>\n",
       "      <td>21-36 81ST STREET</td>\n",
       "      <td></td>\n",
       "      <td>976.0</td>\n",
       "      <td>4.0</td>\n",
       "      <td>A5</td>\n",
       "      <td>A5</td>\n",
       "      <td>01  ONE FAMILY HOMES</td>\n",
       "      <td>NaN</td>\n",
       "      <td>0.0</td>\n",
       "      <td>...</td>\n",
       "      <td>NaN</td>\n",
       "      <td>NaN</td>\n",
       "      <td>NaN</td>\n",
       "      <td>NaN</td>\n",
       "      <td>NaN</td>\n",
       "      <td>NaN</td>\n",
       "      <td>NaN</td>\n",
       "      <td>NaN</td>\n",
       "      <td>1950.0</td>\n",
       "      <td>11370.0</td>\n",
       "    </tr>\n",
       "    <tr>\n",
       "      <th>4</th>\n",
       "      <td>4</td>\n",
       "      <td>21-56 81ST ST</td>\n",
       "      <td></td>\n",
       "      <td>976.0</td>\n",
       "      <td>4.0</td>\n",
       "      <td>A5</td>\n",
       "      <td>A5</td>\n",
       "      <td>01  ONE FAMILY HOMES</td>\n",
       "      <td>NaN</td>\n",
       "      <td>0.0</td>\n",
       "      <td>...</td>\n",
       "      <td>NaN</td>\n",
       "      <td>NaN</td>\n",
       "      <td>NaN</td>\n",
       "      <td>NaN</td>\n",
       "      <td>NaN</td>\n",
       "      <td>NaN</td>\n",
       "      <td>NaN</td>\n",
       "      <td>NaN</td>\n",
       "      <td>1950.0</td>\n",
       "      <td>11370.0</td>\n",
       "    </tr>\n",
       "  </tbody>\n",
       "</table>\n",
       "<p>5 rows × 43 columns</p>\n",
       "</div>"
      ],
      "text/plain": [
       "   Unnamed: 0                                    ADDRESS APARTMENT NUMBER  \\\n",
       "0           0  21-08 81ST STREET                                            \n",
       "1           1  21-18 81ST STREET                                            \n",
       "2           2  21-20 81ST   STREET                                          \n",
       "3           3  21-36 81ST STREET                                            \n",
       "4           4  21-56 81ST ST                                                \n",
       "\n",
       "   BLOCK  BOROUGH BUILDING CLASS AT PRESENT BUILDING CLASS AT TIME OF SALE  \\\n",
       "0  976.0      4.0                        A5                             A5   \n",
       "1  976.0      4.0                        A5                             A5   \n",
       "2  976.0      4.0                        A5                             A5   \n",
       "3  976.0      4.0                        A5                             A5   \n",
       "4  976.0      4.0                        A5                             A5   \n",
       "\n",
       "                        BUILDING CLASS CATEGORY  \\\n",
       "0  01  ONE FAMILY HOMES                           \n",
       "1  01  ONE FAMILY HOMES                           \n",
       "2  01  ONE FAMILY HOMES                           \n",
       "3  01  ONE FAMILY HOMES                           \n",
       "4  01  ONE FAMILY HOMES                           \n",
       "\n",
       "  Building Class Category is based on Building Class at Time of Sale.  \\\n",
       "0                                                NaN                    \n",
       "1                                                NaN                    \n",
       "2                                                NaN                    \n",
       "3                                                NaN                    \n",
       "4                                                NaN                    \n",
       "\n",
       "   COMMERCIAL UNITS    ...    Unnamed: 20  Unnamed: 3  Unnamed: 4  Unnamed: 5  \\\n",
       "0               0.0    ...            NaN         NaN         NaN         NaN   \n",
       "1               0.0    ...            NaN         NaN         NaN         NaN   \n",
       "2               0.0    ...            NaN         NaN         NaN         NaN   \n",
       "3               0.0    ...            NaN         NaN         NaN         NaN   \n",
       "4               0.0    ...            NaN         NaN         NaN         NaN   \n",
       "\n",
       "  Unnamed: 6  Unnamed: 7 Unnamed: 8  Unnamed: 9 YEAR BUILT  ZIP CODE  \n",
       "0        NaN         NaN        NaN         NaN     1950.0   11370.0  \n",
       "1        NaN         NaN        NaN         NaN     1950.0   11370.0  \n",
       "2        NaN         NaN        NaN         NaN     1950.0   11370.0  \n",
       "3        NaN         NaN        NaN         NaN     1950.0   11370.0  \n",
       "4        NaN         NaN        NaN         NaN     1950.0   11370.0  \n",
       "\n",
       "[5 rows x 43 columns]"
      ]
     },
     "execution_count": 337,
     "metadata": {},
     "output_type": "execute_result"
    }
   ],
   "source": [
    "data = pd.read_csv('combined_csv.csv', dtype={'text': bytes})\n",
    "data.head()"
   ]
  },
  {
   "cell_type": "code",
   "execution_count": 338,
   "metadata": {},
   "outputs": [
    {
     "data": {
      "text/plain": [
       "Index(['Unnamed: 0', 'ADDRESS', 'APARTMENT NUMBER', 'BLOCK', 'BOROUGH',\n",
       "       'BUILDING CLASS AT PRESENT', 'BUILDING CLASS AT TIME OF SALE',\n",
       "       'BUILDING CLASS CATEGORY',\n",
       "       'Building Class Category is based on Building Class at Time of Sale.',\n",
       "       'COMMERCIAL UNITS', 'EASE-MENT', 'GROSS SQUARE FEET',\n",
       "       'LAND SQUARE FEET', 'LOT', 'NEIGHBORHOOD', 'RESIDENTIAL UNITS',\n",
       "       'SALE DATE', 'SALE PRICE', 'TAX CLASS AT PRESENT',\n",
       "       'TAX CLASS AT TIME OF SALE', 'TOTAL UNITS', 'Unnamed: 1', 'Unnamed: 10',\n",
       "       'Unnamed: 11', 'Unnamed: 12', 'Unnamed: 13', 'Unnamed: 14',\n",
       "       'Unnamed: 15', 'Unnamed: 16', 'Unnamed: 17', 'Unnamed: 18',\n",
       "       'Unnamed: 19', 'Unnamed: 2', 'Unnamed: 20', 'Unnamed: 3', 'Unnamed: 4',\n",
       "       'Unnamed: 5', 'Unnamed: 6', 'Unnamed: 7', 'Unnamed: 8', 'Unnamed: 9',\n",
       "       'YEAR BUILT', 'ZIP CODE'],\n",
       "      dtype='object')"
      ]
     },
     "execution_count": 338,
     "metadata": {},
     "output_type": "execute_result"
    }
   ],
   "source": [
    "data.columns"
   ]
  },
  {
   "cell_type": "code",
   "execution_count": 339,
   "metadata": {},
   "outputs": [
    {
     "data": {
      "text/html": [
       "<div>\n",
       "<style scoped>\n",
       "    .dataframe tbody tr th:only-of-type {\n",
       "        vertical-align: middle;\n",
       "    }\n",
       "\n",
       "    .dataframe tbody tr th {\n",
       "        vertical-align: top;\n",
       "    }\n",
       "\n",
       "    .dataframe thead th {\n",
       "        text-align: right;\n",
       "    }\n",
       "</style>\n",
       "<table border=\"1\" class=\"dataframe\">\n",
       "  <thead>\n",
       "    <tr style=\"text-align: right;\">\n",
       "      <th></th>\n",
       "      <th>ADDRESS</th>\n",
       "      <th>APARTMENT NUMBER</th>\n",
       "      <th>BLOCK</th>\n",
       "      <th>BOROUGH</th>\n",
       "      <th>BUILDING CLASS AT PRESENT</th>\n",
       "      <th>BUILDING CLASS AT TIME OF SALE</th>\n",
       "      <th>BUILDING CLASS CATEGORY</th>\n",
       "      <th>Building Class Category is based on Building Class at Time of Sale.</th>\n",
       "      <th>COMMERCIAL UNITS</th>\n",
       "      <th>EASE-MENT</th>\n",
       "      <th>...</th>\n",
       "      <th>LOT</th>\n",
       "      <th>NEIGHBORHOOD</th>\n",
       "      <th>RESIDENTIAL UNITS</th>\n",
       "      <th>SALE DATE</th>\n",
       "      <th>SALE PRICE</th>\n",
       "      <th>TAX CLASS AT PRESENT</th>\n",
       "      <th>TAX CLASS AT TIME OF SALE</th>\n",
       "      <th>TOTAL UNITS</th>\n",
       "      <th>YEAR BUILT</th>\n",
       "      <th>ZIP CODE</th>\n",
       "    </tr>\n",
       "  </thead>\n",
       "  <tbody>\n",
       "    <tr>\n",
       "      <th>0</th>\n",
       "      <td>21-08 81ST STREET</td>\n",
       "      <td></td>\n",
       "      <td>976.0</td>\n",
       "      <td>4.0</td>\n",
       "      <td>A5</td>\n",
       "      <td>A5</td>\n",
       "      <td>01  ONE FAMILY HOMES</td>\n",
       "      <td>NaN</td>\n",
       "      <td>0.0</td>\n",
       "      <td></td>\n",
       "      <td>...</td>\n",
       "      <td>9.0</td>\n",
       "      <td>AIRPORT LA GUARDIA</td>\n",
       "      <td>1.0</td>\n",
       "      <td>2010-02-24</td>\n",
       "      <td>0.0</td>\n",
       "      <td>1</td>\n",
       "      <td>1.0</td>\n",
       "      <td>1.0</td>\n",
       "      <td>1950.0</td>\n",
       "      <td>11370.0</td>\n",
       "    </tr>\n",
       "    <tr>\n",
       "      <th>1</th>\n",
       "      <td>21-18 81ST STREET</td>\n",
       "      <td></td>\n",
       "      <td>976.0</td>\n",
       "      <td>4.0</td>\n",
       "      <td>A5</td>\n",
       "      <td>A5</td>\n",
       "      <td>01  ONE FAMILY HOMES</td>\n",
       "      <td>NaN</td>\n",
       "      <td>0.0</td>\n",
       "      <td></td>\n",
       "      <td>...</td>\n",
       "      <td>14.0</td>\n",
       "      <td>AIRPORT LA GUARDIA</td>\n",
       "      <td>1.0</td>\n",
       "      <td>2010-01-21</td>\n",
       "      <td>535000.0</td>\n",
       "      <td>1</td>\n",
       "      <td>1.0</td>\n",
       "      <td>1.0</td>\n",
       "      <td>1950.0</td>\n",
       "      <td>11370.0</td>\n",
       "    </tr>\n",
       "    <tr>\n",
       "      <th>2</th>\n",
       "      <td>21-20 81ST   STREET</td>\n",
       "      <td></td>\n",
       "      <td>976.0</td>\n",
       "      <td>4.0</td>\n",
       "      <td>A5</td>\n",
       "      <td>A5</td>\n",
       "      <td>01  ONE FAMILY HOMES</td>\n",
       "      <td>NaN</td>\n",
       "      <td>0.0</td>\n",
       "      <td></td>\n",
       "      <td>...</td>\n",
       "      <td>15.0</td>\n",
       "      <td>AIRPORT LA GUARDIA</td>\n",
       "      <td>1.0</td>\n",
       "      <td>2010-12-01</td>\n",
       "      <td>475000.0</td>\n",
       "      <td>1</td>\n",
       "      <td>1.0</td>\n",
       "      <td>1.0</td>\n",
       "      <td>1950.0</td>\n",
       "      <td>11370.0</td>\n",
       "    </tr>\n",
       "    <tr>\n",
       "      <th>3</th>\n",
       "      <td>21-36 81ST STREET</td>\n",
       "      <td></td>\n",
       "      <td>976.0</td>\n",
       "      <td>4.0</td>\n",
       "      <td>A5</td>\n",
       "      <td>A5</td>\n",
       "      <td>01  ONE FAMILY HOMES</td>\n",
       "      <td>NaN</td>\n",
       "      <td>0.0</td>\n",
       "      <td></td>\n",
       "      <td>...</td>\n",
       "      <td>23.0</td>\n",
       "      <td>AIRPORT LA GUARDIA</td>\n",
       "      <td>1.0</td>\n",
       "      <td>2010-06-11</td>\n",
       "      <td>0.0</td>\n",
       "      <td>1</td>\n",
       "      <td>1.0</td>\n",
       "      <td>1.0</td>\n",
       "      <td>1950.0</td>\n",
       "      <td>11370.0</td>\n",
       "    </tr>\n",
       "    <tr>\n",
       "      <th>4</th>\n",
       "      <td>21-56 81ST ST</td>\n",
       "      <td></td>\n",
       "      <td>976.0</td>\n",
       "      <td>4.0</td>\n",
       "      <td>A5</td>\n",
       "      <td>A5</td>\n",
       "      <td>01  ONE FAMILY HOMES</td>\n",
       "      <td>NaN</td>\n",
       "      <td>0.0</td>\n",
       "      <td></td>\n",
       "      <td>...</td>\n",
       "      <td>33.0</td>\n",
       "      <td>AIRPORT LA GUARDIA</td>\n",
       "      <td>1.0</td>\n",
       "      <td>2010-09-22</td>\n",
       "      <td>0.0</td>\n",
       "      <td>1</td>\n",
       "      <td>1.0</td>\n",
       "      <td>1.0</td>\n",
       "      <td>1950.0</td>\n",
       "      <td>11370.0</td>\n",
       "    </tr>\n",
       "  </tbody>\n",
       "</table>\n",
       "<p>5 rows × 22 columns</p>\n",
       "</div>"
      ],
      "text/plain": [
       "                                     ADDRESS APARTMENT NUMBER  BLOCK  BOROUGH  \\\n",
       "0  21-08 81ST STREET                                           976.0      4.0   \n",
       "1  21-18 81ST STREET                                           976.0      4.0   \n",
       "2  21-20 81ST   STREET                                         976.0      4.0   \n",
       "3  21-36 81ST STREET                                           976.0      4.0   \n",
       "4  21-56 81ST ST                                               976.0      4.0   \n",
       "\n",
       "  BUILDING CLASS AT PRESENT BUILDING CLASS AT TIME OF SALE  \\\n",
       "0                        A5                             A5   \n",
       "1                        A5                             A5   \n",
       "2                        A5                             A5   \n",
       "3                        A5                             A5   \n",
       "4                        A5                             A5   \n",
       "\n",
       "                        BUILDING CLASS CATEGORY  \\\n",
       "0  01  ONE FAMILY HOMES                           \n",
       "1  01  ONE FAMILY HOMES                           \n",
       "2  01  ONE FAMILY HOMES                           \n",
       "3  01  ONE FAMILY HOMES                           \n",
       "4  01  ONE FAMILY HOMES                           \n",
       "\n",
       "  Building Class Category is based on Building Class at Time of Sale.  \\\n",
       "0                                                NaN                    \n",
       "1                                                NaN                    \n",
       "2                                                NaN                    \n",
       "3                                                NaN                    \n",
       "4                                                NaN                    \n",
       "\n",
       "   COMMERCIAL UNITS EASE-MENT    ...      LOT               NEIGHBORHOOD  \\\n",
       "0               0.0              ...      9.0  AIRPORT LA GUARDIA          \n",
       "1               0.0              ...     14.0  AIRPORT LA GUARDIA          \n",
       "2               0.0              ...     15.0  AIRPORT LA GUARDIA          \n",
       "3               0.0              ...     23.0  AIRPORT LA GUARDIA          \n",
       "4               0.0              ...     33.0  AIRPORT LA GUARDIA          \n",
       "\n",
       "   RESIDENTIAL UNITS   SALE DATE  SALE PRICE TAX CLASS AT PRESENT  \\\n",
       "0                1.0  2010-02-24         0.0                    1   \n",
       "1                1.0  2010-01-21    535000.0                    1   \n",
       "2                1.0  2010-12-01    475000.0                    1   \n",
       "3                1.0  2010-06-11         0.0                    1   \n",
       "4                1.0  2010-09-22         0.0                    1   \n",
       "\n",
       "   TAX CLASS AT TIME OF SALE TOTAL UNITS  YEAR BUILT  ZIP CODE  \n",
       "0                        1.0         1.0      1950.0   11370.0  \n",
       "1                        1.0         1.0      1950.0   11370.0  \n",
       "2                        1.0         1.0      1950.0   11370.0  \n",
       "3                        1.0         1.0      1950.0   11370.0  \n",
       "4                        1.0         1.0      1950.0   11370.0  \n",
       "\n",
       "[5 rows x 22 columns]"
      ]
     },
     "execution_count": 339,
     "metadata": {},
     "output_type": "execute_result"
    }
   ],
   "source": [
    "# Convert five years data into csv file\n",
    "\n",
    "data_price=data.drop(['Unnamed: 0','Unnamed: 1', 'Unnamed: 10',\n",
    "       'Unnamed: 11', 'Unnamed: 12', 'Unnamed: 13', 'Unnamed: 14',\n",
    "       'Unnamed: 15', 'Unnamed: 16', 'Unnamed: 17', 'Unnamed: 18',\n",
    "       'Unnamed: 19', 'Unnamed: 2', 'Unnamed: 20', 'Unnamed: 3', 'Unnamed: 4',\n",
    "       'Unnamed: 5', 'Unnamed: 6', 'Unnamed: 7', 'Unnamed: 8', 'Unnamed: 9'], axis=1)\n",
    "data_price.head()"
   ]
  },
  {
   "cell_type": "code",
   "execution_count": 340,
   "metadata": {},
   "outputs": [
    {
     "data": {
      "text/plain": [
       "Index(['ADDRESS', 'APARTMENT NUMBER', 'BLOCK', 'BOROUGH',\n",
       "       'BUILDING CLASS AT PRESENT', 'BUILDING CLASS AT TIME OF SALE',\n",
       "       'BUILDING CLASS CATEGORY',\n",
       "       'Building Class Category is based on Building Class at Time of Sale.',\n",
       "       'COMMERCIAL UNITS', 'EASE-MENT', 'GROSS SQUARE FEET',\n",
       "       'LAND SQUARE FEET', 'LOT', 'NEIGHBORHOOD', 'RESIDENTIAL UNITS',\n",
       "       'SALE DATE', 'SALE PRICE', 'TAX CLASS AT PRESENT',\n",
       "       'TAX CLASS AT TIME OF SALE', 'TOTAL UNITS', 'YEAR BUILT', 'ZIP CODE'],\n",
       "      dtype='object')"
      ]
     },
     "execution_count": 340,
     "metadata": {},
     "output_type": "execute_result"
    }
   ],
   "source": [
    "data_price.columns"
   ]
  },
  {
   "cell_type": "markdown",
   "metadata": {},
   "source": [
    "###  Only keep the record with valid price and land area"
   ]
  },
  {
   "cell_type": "code",
   "execution_count": 341,
   "metadata": {},
   "outputs": [],
   "source": [
    "data_price.columns = data_price.columns.str.strip().str.lower().str.replace(' ', '_').str.replace('(', '').str.replace(')', '')"
   ]
  },
  {
   "cell_type": "code",
   "execution_count": 342,
   "metadata": {},
   "outputs": [
    {
     "data": {
      "text/plain": [
       "0    False\n",
       "1     True\n",
       "2     True\n",
       "3    False\n",
       "4    False\n",
       "dtype: bool"
      ]
     },
     "execution_count": 342,
     "metadata": {},
     "output_type": "execute_result"
    }
   ],
   "source": [
    "ind=(data_price.sale_price>50000)&(data_price.gross_square_feet>300)&(data_price.land_square_feet>300)&(data_price.residential_units>0)\n",
    "ind.head()"
   ]
  },
  {
   "cell_type": "code",
   "execution_count": 343,
   "metadata": {},
   "outputs": [
    {
     "data": {
      "text/plain": [
       "5899036"
      ]
     },
     "execution_count": 343,
     "metadata": {},
     "output_type": "execute_result"
    }
   ],
   "source": [
    "data_price_new=data_price.loc[ind]\n",
    "data_price_new.size"
   ]
  },
  {
   "cell_type": "code",
   "execution_count": 344,
   "metadata": {},
   "outputs": [
    {
     "data": {
      "text/plain": [
       "Index(['address', 'apartment_number', 'block', 'borough',\n",
       "       'building_class_at_present', 'building_class_at_time_of_sale',\n",
       "       'building_class_category',\n",
       "       'building_class_category_is_based_on_building_class_at_time_of_sale.',\n",
       "       'commercial_units', 'ease-ment', 'gross_square_feet',\n",
       "       'land_square_feet', 'lot', 'neighborhood', 'residential_units',\n",
       "       'sale_date', 'sale_price', 'tax_class_at_present',\n",
       "       'tax_class_at_time_of_sale', 'total_units', 'year_built', 'zip_code'],\n",
       "      dtype='object')"
      ]
     },
     "execution_count": 344,
     "metadata": {},
     "output_type": "execute_result"
    }
   ],
   "source": [
    "data_price_new.columns"
   ]
  },
  {
   "cell_type": "markdown",
   "metadata": {},
   "source": [
    "### Explore sale data with sale time in each BBL, only keep the feature that related "
   ]
  },
  {
   "cell_type": "code",
   "execution_count": 386,
   "metadata": {},
   "outputs": [
    {
     "data": {
      "text/html": [
       "<div>\n",
       "<style scoped>\n",
       "    .dataframe tbody tr th:only-of-type {\n",
       "        vertical-align: middle;\n",
       "    }\n",
       "\n",
       "    .dataframe tbody tr th {\n",
       "        vertical-align: top;\n",
       "    }\n",
       "\n",
       "    .dataframe thead th {\n",
       "        text-align: right;\n",
       "    }\n",
       "</style>\n",
       "<table border=\"1\" class=\"dataframe\">\n",
       "  <thead>\n",
       "    <tr style=\"text-align: right;\">\n",
       "      <th></th>\n",
       "      <th>sale_date</th>\n",
       "      <th>sale_price</th>\n",
       "      <th>block</th>\n",
       "      <th>borough</th>\n",
       "      <th>lot</th>\n",
       "      <th>gross_square_feet</th>\n",
       "    </tr>\n",
       "  </thead>\n",
       "  <tbody>\n",
       "    <tr>\n",
       "      <th>1</th>\n",
       "      <td>2010-01-21</td>\n",
       "      <td>535000.0</td>\n",
       "      <td>976.0</td>\n",
       "      <td>4.0</td>\n",
       "      <td>14.0</td>\n",
       "      <td>1224.0</td>\n",
       "    </tr>\n",
       "    <tr>\n",
       "      <th>2</th>\n",
       "      <td>2010-12-01</td>\n",
       "      <td>475000.0</td>\n",
       "      <td>976.0</td>\n",
       "      <td>4.0</td>\n",
       "      <td>15.0</td>\n",
       "      <td>1836.0</td>\n",
       "    </tr>\n",
       "    <tr>\n",
       "      <th>7</th>\n",
       "      <td>2010-02-24</td>\n",
       "      <td>110000.0</td>\n",
       "      <td>15839.0</td>\n",
       "      <td>4.0</td>\n",
       "      <td>61.0</td>\n",
       "      <td>1040.0</td>\n",
       "    </tr>\n",
       "    <tr>\n",
       "      <th>17</th>\n",
       "      <td>2010-02-26</td>\n",
       "      <td>369274.0</td>\n",
       "      <td>16025.0</td>\n",
       "      <td>4.0</td>\n",
       "      <td>9.0</td>\n",
       "      <td>1471.0</td>\n",
       "    </tr>\n",
       "    <tr>\n",
       "      <th>18</th>\n",
       "      <td>2010-03-04</td>\n",
       "      <td>130000.0</td>\n",
       "      <td>16026.0</td>\n",
       "      <td>4.0</td>\n",
       "      <td>55.0</td>\n",
       "      <td>1407.0</td>\n",
       "    </tr>\n",
       "  </tbody>\n",
       "</table>\n",
       "</div>"
      ],
      "text/plain": [
       "     sale_date  sale_price    block  borough   lot  gross_square_feet\n",
       "1   2010-01-21    535000.0    976.0      4.0  14.0             1224.0\n",
       "2   2010-12-01    475000.0    976.0      4.0  15.0             1836.0\n",
       "7   2010-02-24    110000.0  15839.0      4.0  61.0             1040.0\n",
       "17  2010-02-26    369274.0  16025.0      4.0   9.0             1471.0\n",
       "18  2010-03-04    130000.0  16026.0      4.0  55.0             1407.0"
      ]
     },
     "execution_count": 386,
     "metadata": {},
     "output_type": "execute_result"
    }
   ],
   "source": [
    "bbl_data = data_price_new[['sale_date','sale_price','block','borough','lot','gross_square_feet']]\n",
    "bbl_data.head()"
   ]
  },
  {
   "cell_type": "code",
   "execution_count": 387,
   "metadata": {},
   "outputs": [
    {
     "data": {
      "text/plain": [
       "False"
      ]
     },
     "execution_count": 387,
     "metadata": {},
     "output_type": "execute_result"
    }
   ],
   "source": [
    "bbl_data.isnull().values.any()"
   ]
  },
  {
   "cell_type": "code",
   "execution_count": 388,
   "metadata": {},
   "outputs": [],
   "source": [
    "#data_price.dropna(axis =0, inplace = True)"
   ]
  },
  {
   "cell_type": "code",
   "execution_count": 389,
   "metadata": {},
   "outputs": [
    {
     "data": {
      "text/plain": [
       "16344"
      ]
     },
     "execution_count": 389,
     "metadata": {},
     "output_type": "execute_result"
    }
   ],
   "source": [
    "# Merge sale data with pluto data( because they both have BBL) \n",
    "\n",
    "pluto =  GeoDataFrame.from_file('pluto.geojson')\n",
    "pluto.size"
   ]
  },
  {
   "cell_type": "code",
   "execution_count": 390,
   "metadata": {},
   "outputs": [
    {
     "data": {
      "text/plain": [
       "sale_date             object\n",
       "sale_price           float64\n",
       "block                float64\n",
       "borough              float64\n",
       "lot                  float64\n",
       "gross_square_feet    float64\n",
       "dtype: object"
      ]
     },
     "execution_count": 390,
     "metadata": {},
     "output_type": "execute_result"
    }
   ],
   "source": [
    "bbl_data.dtypes"
   ]
  },
  {
   "cell_type": "code",
   "execution_count": 391,
   "metadata": {},
   "outputs": [],
   "source": [
    "bbl_data[['sale_price','block','borough','lot','gross_square_feet']] =bbl_data[['sale_price','block','borough','lot','gross_square_feet']].astype(int)\n"
   ]
  },
  {
   "cell_type": "code",
   "execution_count": 392,
   "metadata": {},
   "outputs": [],
   "source": [
    "def format_bbl(parcel):\n",
    "    borough = str(parcel['borough'])\n",
    "    block = str(parcel['block'])\n",
    "    lot = str(parcel['lot'])\n",
    "    return int(borough + block.zfill(5) + lot.zfill(4))"
   ]
  },
  {
   "cell_type": "code",
   "execution_count": 393,
   "metadata": {},
   "outputs": [
    {
     "data": {
      "text/plain": [
       "1876966"
      ]
     },
     "execution_count": 393,
     "metadata": {},
     "output_type": "execute_result"
    }
   ],
   "source": [
    "# Create bbls\n",
    "bbl_data['bbl'] = bbl_data.apply(format_bbl, axis=1)\n",
    "bbl_data.size"
   ]
  },
  {
   "cell_type": "code",
   "execution_count": 394,
   "metadata": {},
   "outputs": [],
   "source": [
    "#All the housing sale data with bbl label is \n",
    "bbl_data.to_csv(\"sale_prices_bbl.csv\")"
   ]
  },
  {
   "cell_type": "code",
   "execution_count": 395,
   "metadata": {},
   "outputs": [],
   "source": [
    "#bbl_prices = bbl_data[bbl_data.apply(lambda parcel: parcel['bbl'] in pluto['bbl'].values, axis=1)]\n",
    "#bbl_prices.size\n",
    "\n"
   ]
  },
  {
   "cell_type": "code",
   "execution_count": 396,
   "metadata": {
    "scrolled": true
   },
   "outputs": [],
   "source": [
    "#new = pd.merge(bbl_prices, pluto, left_on = 'bbl', right_on = 'bbl', how = 'inner')\n",
    "# new."
   ]
  },
  {
   "cell_type": "code",
   "execution_count": null,
   "metadata": {},
   "outputs": [],
   "source": []
  }
 ],
 "metadata": {
  "kernelspec": {
   "display_name": "Python 3",
   "language": "python",
   "name": "python3"
  },
  "language_info": {
   "codemirror_mode": {
    "name": "ipython",
    "version": 3
   },
   "file_extension": ".py",
   "mimetype": "text/x-python",
   "name": "python",
   "nbconvert_exporter": "python",
   "pygments_lexer": "ipython3",
   "version": "3.7.1"
  }
 },
 "nbformat": 4,
 "nbformat_minor": 2
}
